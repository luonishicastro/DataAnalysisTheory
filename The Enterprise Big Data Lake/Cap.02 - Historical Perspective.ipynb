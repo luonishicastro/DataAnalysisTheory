{
 "cells": [
  {
   "cell_type": "markdown",
   "metadata": {},
   "source": [
    "<b>Describe the evolution of the Data tools.</b>"
   ]
  },
  {
   "cell_type": "markdown",
   "metadata": {},
   "source": [
    "<i><li><b>Spreadsheet:</b> the first step in the self-service data revolution wat the spreadsheet. It allowed nondevelopers to work with data directly. For the first time, the analysts were able to work with the data themselves and manipulate it into the shapes they desired. However, spreadsheets did not scale beyond small amounts of data and could address only a small subset of the problemas that analysts wanted to address.</li>\n",
    "<li><b>RDBM's:</b> meanwhile, companies began to realize that the data, not the applications, was the crown jewel. Data had to be carefully managed, checked for consistency, and backed up. Instead of each program having to develop these capabilities itself, they were extracted and provided by a new class of systems called database management systems.</li>\n",
    "    Relational database management systems allow the users to describe the data explicitly to the database. Users create a schema - a human readable collection of tables and fields. Instead of having\n",
    "<li><b>Data Warehousing: </b> </li>\n",
    "</i>"
   ]
  },
  {
   "cell_type": "code",
   "execution_count": null,
   "metadata": {},
   "outputs": [],
   "source": []
  }
 ],
 "metadata": {
  "kernelspec": {
   "display_name": "Python 3",
   "language": "python",
   "name": "python3"
  },
  "language_info": {
   "codemirror_mode": {
    "name": "ipython",
    "version": 3
   },
   "file_extension": ".py",
   "mimetype": "text/x-python",
   "name": "python",
   "nbconvert_exporter": "python",
   "pygments_lexer": "ipython3",
   "version": "3.6.5"
  }
 },
 "nbformat": 4,
 "nbformat_minor": 2
}
