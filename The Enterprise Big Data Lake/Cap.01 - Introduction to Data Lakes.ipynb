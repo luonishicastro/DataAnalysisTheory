{
 "cells": [
  {
   "cell_type": "markdown",
   "metadata": {},
   "source": [
    "<b>What are the advantages of Big Data technologies over the tradicional data management infrastructure?</b>"
   ]
  },
  {
   "cell_type": "markdown",
   "metadata": {},
   "source": [
    "<i>It enables greater scalability and cost efficiency, and provides more agility on how you use the data.</i>"
   ]
  },
  {
   "cell_type": "markdown",
   "metadata": {},
   "source": [
    "<b>How and when was the term 'Data Lake' first used?</b>"
   ]
  },
  {
   "cell_type": "markdown",
   "metadata": {},
   "source": [
    "<i>The term was invented and first described by James Dixon, CTO of Pentaho, who wrote in his blog: 'If you think of a datamart as a store of bottled water - cleansed and packaged and structured for easy consumption - the data lake is a large body of water in a more natural state. The contents of a data lake stream in from a source to fill the lake, and various users of the data lake can come to examine, dive in, or take samples'.</i>"
   ]
  },
  {
   "cell_type": "markdown",
   "metadata": {},
   "source": [
    "<b>Describe each stage of maturity of a Data Lake</b>"
   ]
  },
  {
   "cell_type": "markdown",
   "metadata": {},
   "source": [
    "* <i> Data Puddle: is basically a single purpose or single project data mart built using big data technology. Or is typically the first step in the adoption of big data technology. The data in a data puddle is loaded for the purpose of a single project or team. It is usually well known and well understood, and the reason that big data is used instead of traditional data warehousing is to lower cost and provide better performance.\n",
    "* Data pond: is a collection of data puddles. It may be like a poorly designed data warehouse, which is effectively a collection of colocated data marts, or it may be an offload of an existing data warehouse. While lower technology costs and better scalability are clear attractive benefits, these constructs still require a high level of IT participation. Furthermore, data ponds limit data to only that needed by the project, and use that data only for the project that requires it. Given the high IT costs and limited data availibility, data ponds do not really help us with the goalsof democratizing data usage or driving self-service and data-driven decision making for business users.\n",
    "* Data Lake: it is different from a data pond in two important ways. First, if supports self-service, where business users are able to find and use data sets that they want to use without having to rely on help from IT department. Second, it aims to contain data that business users might possibly want even if there is not project requiring it at the time.\n",
    "* Data Ocean: it expands self-service data and data-driven decision making to all enterprise data, wherever it may be, regardless it may be, regardless of whether it was loaded into data lake or not.\n",
    "</i>"
   ]
  },
  {
   "cell_type": "markdown",
   "metadata": {},
   "source": [
    "<b>What is the difference between a Data Pond and a Data Lake?</b>"
   ]
  },
  {
   "cell_type": "markdown",
   "metadata": {},
   "source": [
    "<i>The key difference between the data pond and the data lake is the focus. Data ponds provice a less expansive and more scalable technology alternative to existing relational data warehouses and data marts. Whereas the latter are focused on running routine, production-ready queries, data lakes enable business users to leverage data to make their own decisions by doing ad hoc analysis and experimentation with a variety of new types of data and tools.</i>"
   ]
  },
  {
   "cell_type": "markdown",
   "metadata": {},
   "source": [
    "<b>What does it take to have a successfull Data Lake?</b>"
   ]
  },
  {
   "cell_type": "markdown",
   "metadata": {},
   "source": [
    "<i>As with any project, aligning it with the company's business strategy and having executive sponsorship and broad buy-in are a must. In addition, three key prerequisites can be identified:\n",
    "* The right Platform: big data technologies like Hadoop and cloud solutions like Amazon Web Services (AWS), Microsoft Azure, and Google Cloud Platform are the most popular platforms for a data lake. These technologies share important advantages in terms of volume, cost, variety and future proofing of the data.\n",
    "* The right Data: the promise of the data lake is to be able to store as much data as possible for future use. Moreover, because you don't know how you will use the data, it doesn't make sense to convert or treat it prematurely.\n",
    "* The right Interface: most companies are settling on the shopping for data paradigm.\n",
    "</i>"
   ]
  },
  {
   "cell_type": "markdown",
   "metadata": {},
   "source": [
    "<b>What is Schema on Read?</b>"
   ]
  },
  {
   "cell_type": "markdown",
   "metadata": {},
   "source": [
    "<i>In schema on read, data is applied to a plan or schema as it is pulled out of the stored location, rather than as it goes in. In other words, data can be loaded with absolutely no processing, unlike in a relational database, where data cannot be loaded until it is converted to the schema and format expected by the database.</i>"
   ]
  },
  {
   "cell_type": "markdown",
   "metadata": {},
   "source": [
    "<b>Describre a couple challenges and urgencies in a Self-Service use of Data.</b>"
   ]
  },
  {
   "cell_type": "markdown",
   "metadata": {},
   "source": [
    "<i>To gain wide adoption and reap the benefits of helping business users make data driven decisions, the solutions companies provide must be self-service, so their users can find, understand, and use the data without needing help from IT.\n",
    "<br> There are two aspects to enabling self-service: providing data at the right level of expertise for the users, and ensuring the users are able to find the right data.\n",
    "    </i>"
   ]
  },
  {
   "cell_type": "markdown",
   "metadata": {},
   "source": [
    "<b>What is a Data Swamp?</b>"
   ]
  },
  {
   "cell_type": "markdown",
   "metadata": {},
   "source": [
    "<i>A data swamp is a data pond that has grown to the size of a data lake but failed to attract a wide analyst community, usually due to a lack of self-service and governance facilities. Often, while various teams use small areas of the lake for their projects, the majority of the data is dark, undocumented and unusable.</i>"
   ]
  },
  {
   "cell_type": "markdown",
   "metadata": {},
   "source": [
    "<b>Describe a Roadmap to succesfully building a Data Lake.</b>"
   ]
  },
  {
   "cell_type": "markdown",
   "metadata": {},
   "source": [
    "<i> <ol>\n",
    "    <li>Stand up the infrastructure (get the Hadoop cluster up and running).</li>\n",
    "    <li>Organize the data lake (create zones for use by various user communities and ingest the data).</li>\n",
    "    <li>Set the data lake up for self-service (create a catalog of data assets, set up permissions, and provide tools for the analysts to use).</li>\n",
    "    <li>Open the data lake up to the users.</li>\n",
    "    </ol>\n",
    "</i>"
   ]
  },
  {
   "cell_type": "markdown",
   "metadata": {},
   "source": [
    "<b>Describe each organizational zone in a Data Lake.</b>"
   ]
  },
  {
   "cell_type": "markdown",
   "metadata": {},
   "source": [
    "<i> Most data lake are organized roughly the same way, into vaious zones:\n",
    "* A <a>raw or landing zone</a> where data is ingested and kept as close as possible to its original state.\n",
    "* A <a>gold or production zone</a> where clean, processed data is kept.\n",
    "* A <a>dev or work zone</a> where the most technical users such as data scientists and data engineers do their work. This zone can be organized by user, by project, by subject, or in a variety of other ways. Once the analytics work performed in the work zone gets productized, it is moved into the gold zone.\n",
    "* A <a>sensitive zone</a> that contains sensitive data.\n",
    "</i>"
   ]
  },
  {
   "cell_type": "markdown",
   "metadata": {},
   "source": [
    "<b>Describe the concept of multi-modal IT promoted by Gartner.</b>"
   ]
  },
  {
   "cell_type": "markdown",
   "metadata": {},
   "source": [
    "<i>The idea that governance should reflect data usage and user community requirements. This approach has been widely adopted by data lake teams, with different zones having different levels of governance and service level agreements (SLAs).</i>"
   ]
  },
  {
   "cell_type": "markdown",
   "metadata": {},
   "source": [
    "<b>Describe each analysis stage.</b>"
   ]
  },
  {
   "cell_type": "markdown",
   "metadata": {},
   "source": [
    "<i>Analysts, be they business analysts or data analysts or data scientists, typically go through four steps to do their job. The first step is to <a>find and understand</a> the data. Once they find the right data sets, they need to <a>provision</a> the data - that is, get access to it. Once they have the data, often need to <a>prepare</a> it - that is, clean it and convert it to a format appropriate for analysis. Finally, they need to use the data to answer questions or create visualizations and reports.</i>"
   ]
  },
  {
   "cell_type": "code",
   "execution_count": null,
   "metadata": {},
   "outputs": [],
   "source": []
  }
 ],
 "metadata": {
  "kernelspec": {
   "display_name": "Python 3",
   "language": "python",
   "name": "python3"
  },
  "language_info": {
   "codemirror_mode": {
    "name": "ipython",
    "version": 3
   },
   "file_extension": ".py",
   "mimetype": "text/x-python",
   "name": "python",
   "nbconvert_exporter": "python",
   "pygments_lexer": "ipython3",
   "version": "3.7.4"
  }
 },
 "nbformat": 4,
 "nbformat_minor": 2
}
