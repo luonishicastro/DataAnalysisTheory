{
 "cells": [
  {
   "cell_type": "markdown",
   "metadata": {},
   "source": [
    "<b>What are the advantages of Big Data technologies over the tradicional data management infrastructure?</b>"
   ]
  },
  {
   "cell_type": "markdown",
   "metadata": {},
   "source": [
    "<i>It enables greater scalability and cost efficiency, and provides more agility on how you use the data.</i>"
   ]
  },
  {
   "cell_type": "markdown",
   "metadata": {},
   "source": [
    "<b>How and when was the term 'Data Lake' first used?</b>"
   ]
  },
  {
   "cell_type": "markdown",
   "metadata": {},
   "source": [
    "<i>The term was invented and first described by James Dixon, CTO of Pentaho, who wrote in his blog: 'If you think of a datamart as a store of bottled water - cleansed and packaged and structured for easy consumption - the data lake is a large body of water in a more natural state. The contents of a data lake stream in from a source to fill the lake, and various users of the data lake can come to examine, dive in, or take samples'.</i>"
   ]
  },
  {
   "cell_type": "markdown",
   "metadata": {},
   "source": [
    "<b>Describe each stage of maturity of a Data Lake</b>"
   ]
  },
  {
   "cell_type": "markdown",
   "metadata": {},
   "source": [
    "* <i> Data Puddle: is basically a single purpose or single project data mart built using big data technology. Or is typically the first step in the adoption of big data technology. The data in a data puddle is loaded for the purpose of a single project or team. It is usually well known and well understood, and the reason that big data is used instead of traditional data warehousing is to lower cost and provide better performance.\n",
    "* Data pond: is a collection of data puddles. It may be like a poorly designed data warehouse, which is effectively a collection of colocated data marts, or it may be an offload of an existing data warehouse. While lower technology costs and better scalability are clear attractive benefits, these constructs still require a high level of IT participation. Furthermore, data ponds limit data to only that needed by the project, and use that data only for the project that requires it. Given the high IT costs and limited data availibility, data ponds do not really help us with the goalsof democratizing data usage or driving self-service and data-driven decision making for business users.\n",
    "* Data Lake: it is different from a data pond in two important ways. First, if supports self-service, where business users are able to find and use data sets that they want to use without having to rely on help from IT department. Second, it aims to contain data that business users might possibly want even if there is not project requiring it at the time.\n",
    "* Data Ocean: it expands self-service data and data-driven decision making to all enterprise data, wherever it may be, regardless it may be, regardless of whether it was loaded into data lake or not.\n",
    "</i>"
   ]
  },
  {
   "cell_type": "markdown",
   "metadata": {},
   "source": [
    "<b>What is the difference between a Data Pond and a Data Lake?</b>"
   ]
  },
  {
   "cell_type": "markdown",
   "metadata": {},
   "source": [
    "<i>The key difference between the data pond and the data lake is the focus. Data ponds provice a less expansive and more scalable technology alternative to existing relational data warehouses and data marts. Whereas the latter are focused on running routine, production-ready queries, data lakes enable business users to leverage data to make their own decisions by doing ad hoc analysis and experimentation with a variety of new types of data and tools.</i>"
   ]
  },
  {
   "cell_type": "markdown",
   "metadata": {},
   "source": [
    "<b>What does it take to have a successfull Data Lake?</b>"
   ]
  },
  {
   "cell_type": "markdown",
   "metadata": {},
   "source": [
    "<i>As with any project, aligning it with the company's business strategy and having executive sponsorship and broad buy-in are a must. In addition, three key prerequisites can be identified:\n",
    "* The right Platform\n",
    "* The right Data\n",
    "* The right Interfaces\n",
    "</i>"
   ]
  },
  {
   "cell_type": "markdown",
   "metadata": {},
   "source": [
    "<b>What is Schema on Read?</b>"
   ]
  },
  {
   "cell_type": "markdown",
   "metadata": {},
   "source": [
    "<i>In schema on read, data is applied to a plan or schema as it is pulled out of the stored location, rather than as it goes in.</i>"
   ]
  },
  {
   "cell_type": "code",
   "execution_count": null,
   "metadata": {},
   "outputs": [],
   "source": []
  }
 ],
 "metadata": {
  "kernelspec": {
   "display_name": "Python 3",
   "language": "python",
   "name": "python3"
  },
  "language_info": {
   "codemirror_mode": {
    "name": "ipython",
    "version": 3
   },
   "file_extension": ".py",
   "mimetype": "text/x-python",
   "name": "python",
   "nbconvert_exporter": "python",
   "pygments_lexer": "ipython3",
   "version": "3.7.4"
  }
 },
 "nbformat": 4,
 "nbformat_minor": 2
}
