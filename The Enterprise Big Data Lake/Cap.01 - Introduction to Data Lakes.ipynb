{
 "cells": [
  {
   "cell_type": "markdown",
   "metadata": {},
   "source": [
    "<i>What are the advantages of Big Data technologies over the tradicional data management infrastructure?</i>"
   ]
  },
  {
   "cell_type": "code",
   "execution_count": 1,
   "metadata": {},
   "outputs": [],
   "source": [
    "# It enables greater scalability and cost efficiency, and provides more agility on how you use the data."
   ]
  },
  {
   "cell_type": "markdown",
   "metadata": {},
   "source": [
    "<i>How and when was the term 'Data Lake' first used?</i>"
   ]
  },
  {
   "cell_type": "code",
   "execution_count": 5,
   "metadata": {},
   "outputs": [
    {
     "data": {
      "text/plain": [
       "\" The term was invented and first described by James Dixon, CTO of Pentaho, who wrote in his blog:\\n'If you think of a datamart as a store of bottled water - cleansed and packaged and structured for easy consumption\\n - the data lake is a large body of water in a more natural state. The contents of a data lake stream in from a source\\nto fill the lake, and various users of the data lake can come to examine, dive in, or take samples'. \""
      ]
     },
     "execution_count": 5,
     "metadata": {},
     "output_type": "execute_result"
    }
   ],
   "source": [
    "\"\"\" The term was invented and first described by James Dixon, CTO of Pentaho, who wrote in his blog:\n",
    "'If you think of a datamart as a store of bottled water - cleansed and packaged and structured for easy consumption\n",
    " - the data lake is a large body of water in a more natural state. The contents of a data lake stream in from a source\n",
    "to fill the lake, and various users of the data lake can come to examine, dive in, or take samples'. \"\"\""
   ]
  },
  {
   "cell_type": "markdown",
   "metadata": {},
   "source": [
    "<i>Describe each stage of maturity of a Data Lake</i>"
   ]
  },
  {
   "cell_type": "code",
   "execution_count": 7,
   "metadata": {},
   "outputs": [
    {
     "data": {
      "text/plain": [
       "' Data Puddle: is basically a single purpose or single project data mart built using big data technology. Or is typically the first step in the adoption of big data technology. The data in a data puddle is loaded for the purpose of a single project or team. It is usually well known and well understood, and the reason that big data is used instead of traditional data warehousing is to lower cost and provide better performance.\\n Data pond: '"
      ]
     },
     "execution_count": 7,
     "metadata": {},
     "output_type": "execute_result"
    }
   ],
   "source": [
    "\"\"\" Data Puddle: is basically a single purpose or single project data mart built using big data technology. Or is typically the first step in the adoption of big data technology. The data in a data puddle is loaded for the purpose of a single project or team. It is usually well known and well understood, and the reason that big data is used instead of traditional data warehousing is to lower cost and provide better performance.\n",
    " Data pond: \"\"\""
   ]
  },
  {
   "cell_type": "code",
   "execution_count": null,
   "metadata": {},
   "outputs": [],
   "source": []
  }
 ],
 "metadata": {
  "kernelspec": {
   "display_name": "Python 3",
   "language": "python",
   "name": "python3"
  },
  "language_info": {
   "codemirror_mode": {
    "name": "ipython",
    "version": 3
   },
   "file_extension": ".py",
   "mimetype": "text/x-python",
   "name": "python",
   "nbconvert_exporter": "python",
   "pygments_lexer": "ipython3",
   "version": "3.7.4"
  }
 },
 "nbformat": 4,
 "nbformat_minor": 2
}
