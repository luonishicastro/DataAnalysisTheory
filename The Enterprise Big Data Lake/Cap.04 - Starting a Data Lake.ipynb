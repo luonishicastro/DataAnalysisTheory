{
 "cells": [
  {
   "cell_type": "markdown",
   "metadata": {},
   "source": [
    "<b>What is the best way ofp reventing proliferation of Data Puddles?</b>"
   ]
  },
  {
   "cell_type": "markdown",
   "metadata": {},
   "source": [
    "<i>By building a centralized Data Lake. Then, when business teams decide that they need Hadoop, the compute resources and the data for their projects are already available in the data lake. By providing managed compute resources with preloaded data, yet giving users autonomy through self-service, an enterprise data lake gives business the best of both worlds: support for the components that are difficult for them to maintain and feedom from waiting for IT before working on their projects.</i>"
   ]
  },
  {
   "cell_type": "markdown",
   "metadata": {},
   "source": [
    "<b>Describe the main approaches for starting new Data Lakes.</b>"
   ]
  },
  {
   "cell_type": "markdown",
   "metadata": {},
   "source": [
    "<i>For companies trying to introduce big data, there are a few popular approache:\n",
    "\n",
    "* Start by offloading some existing functions in Hadoop and then add more data and expand into a data lake.\n",
    "* Start with a data science initiative, show great ROI, and the expand it to a full data lake.\n",
    "* Build the data lake from scratch as a central point of governance.\n",
    "</i>"
   ]
  },
  {
   "cell_type": "markdown",
   "metadata": {},
   "source": [
    "<b>What are the best ways to bring data science into a organization?</b>"
   ]
  },
  {
   "cell_type": "markdown",
   "metadata": {},
   "source": [
    "<i>Firstly, by finding a visible problem that: (a) is well defined and well understood; (b) can show quick, measurable benefits; (c) can be solved through machine learning or advanced analytics; (d) requires data that the team can easily procure; (e) would be very difficult or time consuming to solve without applying data science techniques.</i>"
   ]
  },
  {
   "cell_type": "code",
   "execution_count": null,
   "metadata": {},
   "outputs": [],
   "source": []
  }
 ],
 "metadata": {
  "kernelspec": {
   "display_name": "Python 3",
   "language": "python",
   "name": "python3"
  },
  "language_info": {
   "codemirror_mode": {
    "name": "ipython",
    "version": 3
   },
   "file_extension": ".py",
   "mimetype": "text/x-python",
   "name": "python",
   "nbconvert_exporter": "python",
   "pygments_lexer": "ipython3",
   "version": "3.6.5"
  }
 },
 "nbformat": 4,
 "nbformat_minor": 2
}
