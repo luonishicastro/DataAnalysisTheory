{
 "cells": [
  {
   "cell_type": "markdown",
   "metadata": {},
   "source": [
    "<b>Handful types of visuals.</b>"
   ]
  },
  {
   "cell_type": "markdown",
   "metadata": {},
   "source": [
    "<i>\n",
    "\n",
    "* <b>Simple Text:</b> when you have just a number or two to share, simple text can be a great way to communicate. Think about solely using the number and a few supporting words to clearly make your point.\n",
    "* <b>Tables:</b> when I have a table in front of me, I typically have my index finger out: I'm reading across rows and down columns or I'm comparing values. Tables are great just for that - communicating to a mixed audience whose members will each look for their particular row of interest. If you need to communicate multiple different units of measure, this is also easier with a table than a graph.\n",
    "<br> Using a table in a live presentation is rarely a good idea. As your audience reads it, your lose their ears and attention to make your point verbally.\n",
    "<br> One thing to keep in mind with a table is that you want the design to fade into the background, letting the data take center stage. Don't let heady borders or shading compete for attention.\n",
    "* <b>Heatmap:</b> one approach for mixing the detail you can include in a table while also making use of visual cues is via a heatmap. A heatmap is a way to visualize data in dabular format, where in place of (or in addition to) the numbers, you leverage colored cells that convey the relative magnitude of the numbers. Be sure when you leverage this to always include a legend to help the reader interpret the data.\n",
    "    \n",
    "<br>While tables interact with our verbal system, graphs interact with our visual system, which is faster at ptocessing information. Graphs frequently used fall into four categories: points, lines, bars, and area.\n",
    "\n",
    "* <b>Scatterplot:</b> scatterplots can be useful for showing the relationship between two things, because they allow you to encode data simultaneously on a horizontal x-axis and vertical y-axis to see whether and what relationship exists. They tend to be used in scientific fields.\n",
    "* <b>Line Graph:</b> the line graph can show a single series of data, two series of data, or multiple series.\n",
    "<br>They are more commonly used to plot continuous data. Because the points are physically connected via the lina, it implies a connection between the points that may not make sense for categorical data. Often, out continuous data is in some unit of time: days, months, quarters, or years.\n",
    "* <b>Slopegraph:</b> slopegraphs can be useful when you have two time periods or points of comparison and want to quickly show relative increases and decreases or differences across various categories between the two data points.\n",
    "<br>Slopegraphs pack in a lot of information. In addition to the absolute values (the points), the lines that connect them give you the visual increase or decrease in rate of change (via the slope or direction) without ever having to explain that's what they are doing, or what exatly a rate of change is - rather, it's intuitive.\n",
    "\n",
    "<br>While lines work well to show data over time, bars tend to be the go-to graph type for plotting categorical data, where information is organized into groups.\n",
    "<br>Bar charts are easy for our eyes to read. Our eyes compare the end points of the bars, so it is easy to see quickly which category is the biggest, which is the smallest, and also the incremental difference between categories. Note that, because of how our eyes compare the relative end points of the bars, it is important that bar charts always have a zero baseline, otherwise you get a false visual comparison.\n",
    "* <b>Vertical Bar:</b> like line graphs, vertical bar charts can be single series, two series, or multiple series. Be aware that there is visual grouping that happens as a result of the spacing in bar charts having more than one data series. This makes the relative order of the categorization important.\n",
    "* <b>Horizontal Bar:</b> it flips the vertical version on its side. The horizontal bar chart is especially useful if your category names are long, as the text is written from left to right, as most audiences read, making your graph more legible.\n",
    "* <b>Stacked Vertical Bar:</b> use cases for stacked vertical bar charts are more limited. They are meant to allow you to compare totals across categories and also see the subcomponent pieces within a given category. This can quickly become visually overwhelming.\n",
    "* <b>Stacked Horizontal Bar:</b> similar to the stacked vertical bar chart, stacked horizontal bar charts can be used to show the totals across different categories but also give a sense of the subcomponent pieces. They can be structured to show either absolute values or sum to 100%.\n",
    "* <b>Waterfall Chart:</b> the waterfall chart can be used to pull apart the pieces of a stacked bar chart to focus on one at a time, or to show a starting point, increases and decreases, and the resulting ending point.\n",
    "\n",
    "<br>When designing any graph showing categorical data, be thoughtful about how your categories are ordered. If there is a natural ordering to your categories, it may make sense to leverage that.\n",
    "<br>With one exception - when you need to visualize numbers of vastly different magnitudes - try to avoid area graphs. Humans eyes don't do a grat job of attributing quantitative value to two dimensional space, which can render area graphs harder to read than some other types of visual displays.\n",
    "</i>"
   ]
  },
  {
   "cell_type": "markdown",
   "metadata": {},
   "source": [
    "<b>Precautions on using other type of graphs.</b>"
   ]
  },
  {
   "cell_type": "markdown",
   "metadata": {},
   "source": [
    "<i>\n",
    "There are many types of graphs out there. When it comes to selecting a graph, first and foremost, choose a graph type that will enable you to clearly get your message across to your audience. With less familiar types of visuals, you will likely need to take extra care in making them accessible and unserstandable.\n",
    "</i>"
   ]
  },
  {
   "cell_type": "markdown",
   "metadata": {},
   "source": [
    "<b>To be avoided.</b>"
   ]
  },
  {
   "cell_type": "markdown",
   "metadata": {},
   "source": [
    "<i>\n",
    "\n",
    "* <b>don't use 3D!</b> It does nothing good, and can actually do a whole lot of harm.\n",
    "* <b>Pie charts</b> when segments are close in size, it's difficult to tell which is bigger.\n",
    "* <b>Secondary y-axis</b> generally not a good idea. It takes some time and reading to understand which data should be read against which axis.\n",
    "</i>"
   ]
  },
  {
   "cell_type": "markdown",
   "metadata": {},
   "source": [
    "<b>What is the right graph for my situation?</b>"
   ]
  },
  {
   "cell_type": "markdown",
   "metadata": {},
   "source": [
    "<i>\n",
    "Whatever will be the easiest for your audience to read.\n",
    "</i>"
   ]
  }
 ],
 "metadata": {
  "kernelspec": {
   "display_name": "Python 3",
   "language": "python",
   "name": "python3"
  },
  "language_info": {
   "codemirror_mode": {
    "name": "ipython",
    "version": 3
   },
   "file_extension": ".py",
   "mimetype": "text/x-python",
   "name": "python",
   "nbconvert_exporter": "python",
   "pygments_lexer": "ipython3",
   "version": "3.7.4"
  }
 },
 "nbformat": 4,
 "nbformat_minor": 2
}
