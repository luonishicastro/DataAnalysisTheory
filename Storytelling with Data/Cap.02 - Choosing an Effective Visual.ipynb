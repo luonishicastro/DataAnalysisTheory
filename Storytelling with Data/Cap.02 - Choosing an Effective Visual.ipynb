{
 "cells": [
  {
   "cell_type": "markdown",
   "metadata": {},
   "source": [
    "<b>Handful types if visuals.</b>"
   ]
  },
  {
   "cell_type": "markdown",
   "metadata": {},
   "source": [
    "<i>\n",
    "* <b>Simple Text:</b> when you have just a number or two to share, simple text can be a great way to communicate. Think about solely using the number and a few supporting words to clearly make your point.\n",
    "* <b>Scatterplot:</b> scatterplots can be useful for showing the relationship between two things, because they allow you to encode data simultaneously on a horizontal x-axis and vertical y-axis to see whether and what relationship exists.\n",
    "* <b>Tables:</b> when I have a table in front of me, I typically have my index finger out: I'm reading across rows and down columns or I'm comparing values. Tables are great just for that - communicating to a mixed audience whose members will each look for their particular row of interest. If you need to communicate multiple different units of measure, this is also easier with a table than a graph.\n",
    "<br> One thing to keep in mind with a table is that you want the design to fade into the background, letting the data take center stage. Don't let heady borders or shading compete for attention. Also, think that using a table in a live presentation is rarely a good idea. As your audience reads it, you lose their ears and attention.\n",
    "* Line\n",
    "* <b>Heatmap:</b> one approach for mixing the detail you can include in a table while also making use of visual cues is via a heatmap. A heatmap is a way to visualize data in dabular format, where in place of (or in addition to) the numbers, you leverage colored cells that convey the relative magnitude of the numbers.\n",
    "<br> Be sure when you leverage this to always include a legend to help the reader interpret the data.\n",
    "* Slopegraph\n",
    "* Vertical Bar\n",
    "* Horizontal Bar\n",
    "* Stacked Vertical Bar\n",
    "* Stacked Horizontal Bar\n",
    "* Waterfall\n",
    "* Squared Area\n",
    "</i>"
   ]
  },
  {
   "cell_type": "markdown",
   "metadata": {},
   "source": [
    "pag.45"
   ]
  },
  {
   "cell_type": "code",
   "execution_count": null,
   "metadata": {},
   "outputs": [],
   "source": []
  }
 ],
 "metadata": {
  "kernelspec": {
   "display_name": "Python 3",
   "language": "python",
   "name": "python3"
  },
  "language_info": {
   "codemirror_mode": {
    "name": "ipython",
    "version": 3
   },
   "file_extension": ".py",
   "mimetype": "text/x-python",
   "name": "python",
   "nbconvert_exporter": "python",
   "pygments_lexer": "ipython3",
   "version": "3.6.5"
  }
 },
 "nbformat": 4,
 "nbformat_minor": 2
}
