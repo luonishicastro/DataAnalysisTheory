{
 "cells": [
  {
   "cell_type": "markdown",
   "metadata": {},
   "source": [
    "<b>Handful types of visuals.</b>"
   ]
  },
  {
   "cell_type": "markdown",
   "metadata": {},
   "source": [
    "<i>\n",
    "* <b>Simple Text:</b> when you have just a number or two to share, simple text can be a great way to communicate. Think about solely using the number and a few supporting words to clearly make your point.\n",
    "* <b>Tables:</b> when I have a table in front of me, I typically have my index finger out: I'm reading across rows and down columns or I'm comparing values. Tables are great just for that - communicating to a mixed audience whose members will each look for their particular row of interest. If you need to communicate multiple different units of measure, this is also easier with a table than a graph.\n",
    "<br> Using a table in a live presentation is rarely a good idea. As your audience reads it, your lose their ears and attention to make your point verbally.\n",
    "<br> One thing to keep in mind with a table is that you want the design to fade into the background, letting the data take center stage. Don't let heady borders or shading compete for attention.\n",
    "* <b>Heatmap:</b> one approach for mixing the detail you can include in a table while also making use of visual cues is via a heatmap. A heatmap is a way to visualize data in dabular format, where in place of (or in addition to) the numbers, you leverage colored cells that convey the relative magnitude of the numbers. Be sure when you leverage this to always include a legend to help the reader interpret the data.\n",
    "    \n",
    "<br>While tables interact with our verbal system, graphs interact with our visual system, which is faster at ptocessing information. Graphs frequently used fall into four categories: points, lines, bars, and area.\n",
    "\n",
    "* <b>Scatterplot:</b> scatterplots can be useful for showing the relationship between two things, because they allow you to encode data simultaneously on a horizontal x-axis and vertical y-axis to see whether and what relationship exists. They tend to be used in scientific fields.\n",
    "* <b>Line Graph:</b> the line graph can show a single series of data, two series of data, or multiple series.\n",
    "<br>They are more commonly used to plot continuous data. Because the points are physically connected via the lina, it implies a connection between the points that may not make sense for categorical data. Often, out continuous data is in some unit of time: days, months, quarters, or years.\n",
    "* <b>Slopegraph:</b> slopegraphs can be useful when you have two time periods or points of comparison and want to quickly show relative increases and decreases or differences across various categories between the two data points.\n",
    "<br>Slopegraphs pack in a lot of information. In addition to the absolute values (the points), the lines that connect them give you the visual increase or decrease in rate of change (via the slope or direction) without ever having to explain that's what they are doing, or what exatly a rate of change is - rather, it's intuitive.\n",
    "\n",
    "<br>While lines work well to show data over time, bars tend to be the go-to graph type for plotting categorical data, where information is organized into groups.\n",
    "<br>Bar charts are easy for our eyes to read. Our eyes compare the end points of the bars, so it is easy to see quickly which category is the biggest, which is the smallest, and also the incremental difference between categories. Note that, because of how our eyes compare the relative end points of the bars, it is important that bar charts always have a zero baseline, otherwise you get a false visual comparison.\n",
    "* <b>Vertical Bar:</b>\n",
    "* <b>Horizontal Bar:</b>\n",
    "* <b>Stacked Vertical Bar:</b>\n",
    "* <b>Stacked Horizontal Bar:</b>\n",
    "* <b>Waterfall:</b>\n",
    "* <b>Squared Area:</b>\n",
    "</i>"
   ]
  },
  {
   "cell_type": "markdown",
   "metadata": {},
   "source": [
    "pag 52"
   ]
  },
  {
   "cell_type": "code",
   "execution_count": null,
   "metadata": {},
   "outputs": [],
   "source": []
  }
 ],
 "metadata": {
  "kernelspec": {
   "display_name": "Python 3",
   "language": "python",
   "name": "python3"
  },
  "language_info": {
   "codemirror_mode": {
    "name": "ipython",
    "version": 3
   },
   "file_extension": ".py",
   "mimetype": "text/x-python",
   "name": "python",
   "nbconvert_exporter": "python",
   "pygments_lexer": "ipython3",
   "version": "3.6.5"
  }
 },
 "nbformat": 4,
 "nbformat_minor": 2
}
