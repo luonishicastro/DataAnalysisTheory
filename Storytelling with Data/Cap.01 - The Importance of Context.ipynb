{
 "cells": [
  {
   "cell_type": "markdown",
   "metadata": {},
   "source": [
    "<b>Initial considerations on storytelling with data.</b>"
   ]
  },
  {
   "cell_type": "markdown",
   "metadata": {},
   "source": [
    "<i>Technology has enabled us to amass greater and greater amounts of data and there is an accompanying growing desire to make sense out of all of this data. Being able to visualize data and tell stories with it is key to turning it into information that can be used to drive better decision making.\n",
    "<br>\n",
    "There is a story in your data. But your tools don't know what that story is. That's where it takes you - the analyst or communicator of the information - to bring that story visually and contextually to life.\n",
    "</i>"
   ]
  },
  {
   "cell_type": "markdown",
   "metadata": {},
   "source": [
    "<b>What is the difference between eploratory and explanatory analysis?</b>"
   ]
  },
  {
   "cell_type": "markdown",
   "metadata": {},
   "source": [
    "<i>Exploratory analysis is what you do to understand the data and figure out what might be noteworthy or interesting to highlight to others. When you do exploratory analysis, it's like hunting for pearls in oysters. We might have open 100 oysters to find perhaps two pearls. When we're at the point of communicating our analysis to our audience, we really want to be in the explanatory space, meaning you have a specific thing you want to explain, a specific story you want to tell - probably about those two pearls.</i>"
   ]
  },
  {
   "cell_type": "markdown",
   "metadata": {},
   "source": [
    "<b>Recite some things to think about when presenting data or creating content;</b>"
   ]
  },
  {
   "cell_type": "markdown",
   "metadata": {},
   "source": [
    "<i>\n",
    "First, to whom are you communicating? It is important to have a good understanding of who your audience is and how they perceive you. The more specific you can be about who your audience is, the better position you will be for successful communication. By trying to communicate to too many different people with diparate needs at once, you put yourself in a position where you can't communicate to any one of them as effectively as you could if you narrowed your target audience. It's also helpful to think about the relationship that you have with your audience and how you expect that they will perceive you.\n",
    "<br>\n",
    "Second, what do you want your audience to know or do? You should be clear how you want your audience to act and take into account how you will communicate to them and the overall tone that you want to set for your communication. You should always want your audience to know or do something. If you can't concisely articulate that, you should revisit whether you need to communicate in the first place.\n",
    "<br>\n",
    "Third and finally, how can you use data to help make your point?\n",
    "</i>"
   ]
  },
  {
   "cell_type": "markdown",
   "metadata": {},
   "source": [
    "<b>Action words to help to help act as thought starters as you determine what you are asking of your audience:</b>"
   ]
  },
  {
   "cell_type": "markdown",
   "metadata": {},
   "source": [
    "<i>accept | agree | begin | believe | change | collaborate | commence\n",
    "| create | defend | desire | differentiate | do | empathize |\n",
    "empower | encourage | engage | establish | examine | facilitate\n",
    "| familiarize | form | implement | include | influence | invest |\n",
    "invigorate | know | learn | like | persuade | plan | promote\n",
    "| pursue | recommend | receive | remember | report | respond |\n",
    "secure | support | simplify | start | try | understand | validate</i>"
   ]
  },
  {
   "cell_type": "code",
   "execution_count": null,
   "metadata": {},
   "outputs": [],
   "source": []
  }
 ],
 "metadata": {
  "kernelspec": {
   "display_name": "Python 3",
   "language": "python",
   "name": "python3"
  },
  "language_info": {
   "codemirror_mode": {
    "name": "ipython",
    "version": 3
   },
   "file_extension": ".py",
   "mimetype": "text/x-python",
   "name": "python",
   "nbconvert_exporter": "python",
   "pygments_lexer": "ipython3",
   "version": "3.6.5"
  }
 },
 "nbformat": 4,
 "nbformat_minor": 2
}
