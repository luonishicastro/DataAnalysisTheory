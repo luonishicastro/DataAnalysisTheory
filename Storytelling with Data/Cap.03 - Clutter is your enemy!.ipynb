{
 "cells": [
  {
   "cell_type": "markdown",
   "metadata": {},
   "source": [
    "<b>What is clutter?<b>"
   ]
  },
  {
   "cell_type": "markdown",
   "metadata": {},
   "source": [
    "<i>\n",
    "   Picture a blank page or a blank screen: every single element you add to that page or screen takes up cognitive load on the part of your audience - in other words, takes them brain power to process. Therefore, we want to take a discertning look at the visual elements that we allow into our communications. In general, identify anything that isn't adding informative value - or isn't adding enough informative value to make up for its presence - and remove those things.\n",
    "<br>\n",
    "<br>\n",
    "One culprit that can contribute to excessive or extraneous cognitive load is something I refer to simply as clutter. These are visual elements that take up space but don't increase understanding. Clutter makes our visuals appear more complicated than necessary.\n",
    "<i>"
   ]
  },
  {
   "cell_type": "markdown",
   "metadata": {},
   "source": [
    "<b>What is cognitive load?</b>"
   ]
  },
  {
   "cell_type": "markdown",
   "metadata": {},
   "source": [
    "<i>\n",
    "We experience cognitive load anytime we take in information. Cognitive load can be thought of as the mental effort that's required to learn new information. When we ask a computer to do work, we are relying on the computer's processing power. When we ask our audience to do work, we are leveraging their mental processing power. This is cognitive load. Human's  brains have a finite amount of this mental processing power.\n",
    "<br>\n",
    "<br>\n",
    "What matters most when it comes to our visual communications is the perceived cognitive load on the part of our audience: how hard they believe they are going to have to work to get the information out of your communication. This is a decision they likely reach without giving it much conscious thought, and yet it can make the difference between getting your message across or not. When our visuals feel complicated, we run the risk of our audience deciding they don't want to take the time to understand what we're showing, at which point we've lost our ability to communicate with them.\n",
    "</i>"
   ]
  },
  {
   "cell_type": "markdown",
   "metadata": {},
   "source": [
    " <b>What are the \"Gestalt Principles of Visual Perception\"?</b>"
   ]
  },
  {
   "cell_type": "markdown",
   "metadata": {},
   "source": [
    "<i>\n",
    "\n",
    "* <b>Proximity: </b> we tend to think of objects that are physically close together as belonging to part of a group.\n",
    "* <b>Similarity: </b> objects that are of similar color, shape, size, or orientation are perceived as related or belonging to part of a group. This can be leveraged in tables to help draw our audience's eyes in the direction we want them to focus.\n",
    "* <b>Enclosure: </b>\n",
    "</i>"
   ]
  },
  {
   "cell_type": "code",
   "execution_count": null,
   "metadata": {},
   "outputs": [],
   "source": []
  }
 ],
 "metadata": {
  "kernelspec": {
   "display_name": "Python 3",
   "language": "python",
   "name": "python3"
  },
  "language_info": {
   "codemirror_mode": {
    "name": "ipython",
    "version": 3
   },
   "file_extension": ".py",
   "mimetype": "text/x-python",
   "name": "python",
   "nbconvert_exporter": "python",
   "pygments_lexer": "ipython3",
   "version": "3.7.4"
  }
 },
 "nbformat": 4,
 "nbformat_minor": 2
}
