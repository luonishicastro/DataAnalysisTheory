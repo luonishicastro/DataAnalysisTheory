{
 "cells": [
  {
   "cell_type": "markdown",
   "metadata": {},
   "source": [
    "<b>Storytelling in plays</b>"
   ]
  },
  {
   "cell_type": "markdown",
   "metadata": {},
   "source": [
    "<i>\n",
    "The first act sets up the story. It introduces the main character, or protagonist, their relationships, and the world in which they live. After the setup, the main character is confronted with an incident. The attempt to deal with this incident typically leads to a more dramatic situation. This is known as the first turning point. The first turning point ensures that life will never be the same for the main character and raises the dramatic question to be answered in the climax of the play.\n",
    "<br>\n",
    "The second act makes up the bulk of the story. It depicts the main character's attempt to resolve the problem created through the first turning point. Often, the main character lacks the skills to deal with the problem he faces, and, as a result, finds himself encountering increasingly worsening situations. This is known as the character arc, where the main character goes through major changes in his real life as a result of what is happening. He may have to learn new skills or reach a higher sense of awareness of who he is and what he is capable of in order to deal with his situation.\n",
    "<br>\n",
    "The third act resolves the story and its subplots. It includes a climax, where the tensions of the story reach the highest point of intensity. Finally, the dramatic question introduced in the first act is answered, leaving the protagonist and other characters with a new sense of who they really are.\n",
    "<br>\n",
    "There are a couple of lessons to be learned here. First, the three-act structure of a story (setup, conflict and resolution) can serve as a model for us when it comes to communicating in general. Second, the conflict and tension are an integral part of a story.\n",
    "</i>"
   ]
  },
  {
   "cell_type": "markdown",
   "metadata": {},
   "source": [
    "<b>Storytelling and the cinema</b>"
   ]
  },
  {
   "cell_type": "markdown",
   "metadata": {},
   "source": [
    "<i>\n",
    "Roberty McKee says there are two ways to persuade people: the first one is conventional rhetoric. In the business world, this typically takes the form of PowerPoint slides filled with bulleted facts and statistics. It's an intellectual process. But it is problematic, because while you're trying to persuade your audience, they are arguing with you in their heads. If you do succeed in persuading them, you've only done so on an intellectual basis. That's not good enough, because people are not inspired to act by reason alone.\n",
    "<br>\n",
    "The second way to persuade is through story. Stories unite an idea with an emotion, arousing the audience's attention and energy. Because it requires creativity, telling a compelling story is harder than conventional rhetoric. But delving into your creative recesses is worth it because story allows you to engage your audience on an entirely new level.\n",
    "<br>\n",
    "The meta-lesson here is that we can use stories to engage our audience emotionally in a way that goes beyond what facts can do. More specifically, we can use questions (like 'what does my protagonist want in order to restore balance in his or her life?', 'what is the core need?', 'what is keeping my protagonist from achieving his or her desire?', 'how would my protagonist decide to act in order to achieve his or her desire in the face of antagonistic forces?') to identify stories to frame our communications.\n",
    "</i>"
   ]
  },
  {
   "cell_type": "markdown",
   "metadata": {},
   "source": [
    "<b>Storytelling and the written word</b>"
   ]
  },
  {
   "cell_type": "markdown",
   "metadata": {},
   "source": [
    "<ol>\n",
    "<li>Find a subject you care about. It is this genuine caring, and not your games with language, chich will be the most compelling and seductive element in your style.</li>\n",
    "<li>Do not ramble, though.</li>\n",
    "<li>Keep it simple.</li>\n",
    "<li>Have the guts to cut. If a sentence, no matter how excellent does not illuminate your subject in some new useful way, scratch it out.</li>\n",
    "<li>Sound like yourself.</li>\n",
    "<li>Say what you meant to say. If I broke all the rules of punctuation, had words mean whatever them to mean, and strung them together higgledy-piggledy, I would simply not be understood.</li>\n",
    "<li>Pity the readers. Our audience requires us to be sympathetic and patient theachers, ever willing to simplify and clarify.</li>\n",
    "</ol>"
   ]
  },
  {
   "cell_type": "markdown",
   "metadata": {},
   "source": [
    "<b>Constructing the story</b>"
   ]
  },
  {
   "cell_type": "markdown",
   "metadata": {},
   "source": [
    "<i>\n",
    "Story is what ties together information, giving our presentation or comunication a framework for our audience to follow.\n",
    "<br>\n",
    "The first thing to do is introduce the plot, building the context for your audience. Consider this the first act. In this section, we set up the essential elements of story getting everyone on common ground so the story can proceed. We should involve our audience, piquing their interest and answering the questions that are likely on their mind: Why should I pay attention? What is in it for me?\n",
    "<br>\n",
    "As we've discussed, conflict and dramatic tension are critical components of a story. A story where everything is rosy and is expected to continue to be is not so interesting, attention grabbing, or action inspiring. Think of conflict and tension - between the imbalance and balance, or in terms of the problem on which you are focusing - as the storytelling tools that will help you to engage your audience.\n",
    "<br>\n",
    "Once you've set the stage, so to speak, the bulk of your communication further develops 'what could be', with the goal of convincing your audience of the need for action. You retain your audience's attention through this part of the story by addressing how they can solve the problem you introduced. You'll work to convince them why they should accept the solution you are proposing or act in the way you want them to. The following are some ideas for content that might make sense to include as you build out your story and convince your audience to buy in:\n",
    "* Further develop the situation or problem by covering relevant background;\n",
    "* Incorporate external context or comparison points;\n",
    "* Give examples that illustrate the issue;\n",
    "* Include data that demonstrates the problem;\n",
    "* Articulate what will happen if no action is taken or no change is made;\n",
    "* Discuss potential options fro adressing the problem;\n",
    "* Illustrate the benefits of your recommended solution;\n",
    "* Make it clear to your audience why they are in a unique position to make a decision or drive action.\n",
    "<br>\n",
    "\n",
    "Finally, the story must have and end. End with a call to action: make it totally clear to your audience what you want them to do with the new understanding or knowledge that you've imparted to them.\n",
    "</i>"
   ]
  },
  {
   "cell_type": "markdown",
   "metadata": {},
   "source": [
    "175"
   ]
  },
  {
   "cell_type": "code",
   "execution_count": null,
   "metadata": {},
   "outputs": [],
   "source": []
  }
 ],
 "metadata": {
  "kernelspec": {
   "display_name": "Python 3",
   "language": "python",
   "name": "python3"
  },
  "language_info": {
   "codemirror_mode": {
    "name": "ipython",
    "version": 3
   },
   "file_extension": ".py",
   "mimetype": "text/x-python",
   "name": "python",
   "nbconvert_exporter": "python",
   "pygments_lexer": "ipython3",
   "version": "3.6.5"
  }
 },
 "nbformat": 4,
 "nbformat_minor": 2
}
