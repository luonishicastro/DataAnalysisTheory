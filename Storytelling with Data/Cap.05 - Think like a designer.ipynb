{
 "cells": [
  {
   "cell_type": "markdown",
   "metadata": {},
   "source": [
    "<b>What does 'Form follows function' means?</b>"
   ]
  },
  {
   "cell_type": "markdown",
   "metadata": {},
   "source": [
    "<i>\n",
    "When it comes to the form and function of our data visualizations, we first want to think about what it is we want our audience to be able to do with the data (function) and then create a visualization (form) that will allow for this with ease.\n",
    "</i>"
   ]
  },
  {
   "cell_type": "markdown",
   "metadata": {},
   "source": [
    "<b>About Affordances</b>"
   ]
  },
  {
   "cell_type": "markdown",
   "metadata": {},
   "source": [
    "<i>\n",
    "In the field of design, experts speak of objects having 'affordances'. These are aspects inherent to the design that make it obvious how the product is to be used. When sufficient affordances are present, good design fades into the background and you don't even notice it.\n",
    "<br>\n",
    "We can leverage visual affordances to indicate to our audience how to use and interact with our visualizations. We'll discuss three specific lessons to this end:\n",
    "<ol>\n",
    "<li>Highlight the important stuff: critical here is to only highlight a fraction of the overall visual, since highlighting effects are diluted as the percentage that are highlighted increases.\n",
    "<br>Bold, italics, and underlining can be used for titles, labels, captions, and short word sequences to differentiate elements.\n",
    "<br>CASE and typeface. Uppercase text in short word sequences is easily scanned, which can work well when applied to titles, labels, and keywords.\n",
    "<br>Color is an effective highlighting technique when used sparingly and generally in concert with other highlighting techniques.\n",
    "<br>Inversing elements is effective at attracting attention, but can add considerable noise to a design so should be used sparingly.\n",
    "<br>Size is another way to attract attention and signal importance.\n",
    "</li>\n",
    "<li>\n",
    "Eliminate distractions: when it comes to the perfection of design with data visualization, the decision of what to cut de-emphasize can be even more important than what to include or highlight. To identify distractions, think about both clutter and context. Context is what needs to be present for your audience in order for what you what to comunicate to make sense. Clutter are the elements that take up space but don't add information to our visuals.\n",
    "Here are some specific considerations to help you identify potential distractions: (a) not all data are equally important; (b) when detail isn't needed, summarize; (c) ask yourself: would eliminating this change anything? (d) push necessary, but non-message-impacting items to the background;\n",
    "</li>\n",
    "<li>\n",
    "Create a clear visual hierarchy of information: we can visually pull some items to the forefront and push other elements to the background , indicating to our audience the general order in which they should process the information we are communicating.\n",
    "</li>\n",
    "</ol>\n",
    "</i>"
   ]
  },
  {
   "cell_type": "markdown",
   "metadata": {},
   "source": [
    "<b>About Accessibility</b>"
   ]
  },
  {
   "cell_type": "markdown",
   "metadata": {},
   "source": [
    "<i>\n",
    "The concept of accessibility says that designs should be usable by people of diverse abilities. Applied to data visualization, I think of it as design that is usable by people of widely varying technical skills. There are some specific strategies related to accessibility in communicating with data:\n",
    "<li>Don't overcomplicate: the more complicated it looks, the more time your audience perceives it will take to understand and the less likely they are to spend time to understand it. Here are some additional tips to keep your visuals and communications from appearing overly complicated: (1) make it legible; (2) keep it clean; (3) use a straightforward language; (3) remove unnecessary complexity.</li>\n",
    "<li>Text is your friend: thoughtful use of text helps ensure that your data visualization is accessible. Text plays a number of roles in communicating with data: use it to label, introduce, explain, reinforce, highlight, recommend, and tell a story. Assume that every chart needs a title and every axis needs a title. Don't assume that two different people looking at the same data visualization will draw the same conclusion. If there is a conclusion you want your audience to reach, state it in words.</li>\n",
    "</i>"
   ]
  },
  {
   "cell_type": "markdown",
   "metadata": {},
   "source": [
    "<b>About Aesthetics</b>"
   ]
  },
  {
   "cell_type": "code",
   "execution_count": null,
   "metadata": {},
   "outputs": [],
   "source": []
  }
 ],
 "metadata": {
  "kernelspec": {
   "display_name": "Python 3",
   "language": "python",
   "name": "python3"
  },
  "language_info": {
   "codemirror_mode": {
    "name": "ipython",
    "version": 3
   },
   "file_extension": ".py",
   "mimetype": "text/x-python",
   "name": "python",
   "nbconvert_exporter": "python",
   "pygments_lexer": "ipython3",
   "version": "3.7.4"
  }
 },
 "nbformat": 4,
 "nbformat_minor": 2
}
