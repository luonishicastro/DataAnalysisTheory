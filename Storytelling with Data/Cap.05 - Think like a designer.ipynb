{
 "cells": [
  {
   "cell_type": "markdown",
   "metadata": {},
   "source": [
    "<b>What does 'Form follows function' means?</b>"
   ]
  },
  {
   "cell_type": "markdown",
   "metadata": {},
   "source": [
    "<i>\n",
    "When it comes to the form and function of our data visualizations, we first want to think about what it is we want our audience to be able to do with the data (function) and then create a visualization (form) that will allow for this with ease.\n",
    "</i>"
   ]
  },
  {
   "cell_type": "markdown",
   "metadata": {},
   "source": [
    "<b>About Affordances</b>"
   ]
  },
  {
   "cell_type": "markdown",
   "metadata": {},
   "source": [
    "<i>\n",
    "In the field of design, experts speak of objects having 'affordances'. These are aspects inherent to the design that make it obvious how the product is to be used. When sufficient affordances are present, good design fades into the background and you don't even notice it.\n",
    "<br>\n",
    "We can leverage visual affordances to indicate to our audience how to use and interact with our visualizations. We'll discuss three specific lessons to this end:\n",
    "<ol>\n",
    "<li>Highlight the important stuff: critical here is to only highlight a fraction of the overall visual, since highlighting effects are diluted as the percentage that are highlighted increases.\n",
    "<br>Bold, italics, and underlining can be used for titles, labels, captions, and short word sequences to differentiate elements.\n",
    "<br>CASE and typeface. Uppercase text in short word sequences is easily scanned, which can work well when applied to titles, labels, and keywords.\n",
    "<br>Color is an effective highlighting technique when used sparingly and generally in concert with other highlighting techniques.\n",
    "<br>Inversing elements is effective at attracting attention, but can add considerable noise to a design so should be used sparingly.\n",
    "<br>Size is another way to attract attention and signal importance.\n",
    "</li>\n",
    "<li>\n",
    "Eliminate distractions: when it comes to the perfection of design with data visualization, the decision of what to cut de-emphasize can be even more important than what to include or highlight. To identify distractions, think about both clutter and context. Context is what needs to be present for your audience in order for what you what to comunicate to make sense. Clutter are the elements that take up space but don't add information to our visuals.\n",
    "Here are some specific considerations to help you identify potential distractions: (a) not all data are equally important; (b) when detail isn't needed, summarize; (c) ask yourself: would eliminating this change anything? (d) push necessary, but non-message-impacting items to the background;\n",
    "</li>\n",
    "<li>\n",
    "Create a clear visual hierarchy of information: we can visually pull some items to the forefront and push other elements to the background , indicating to our audience the general order in which they should process the information we are communicating.\n",
    "</li>\n",
    "</ol>\n",
    "</i>"
   ]
  },
  {
   "cell_type": "markdown",
   "metadata": {},
   "source": [
    "<b>About Accessibility</b>"
   ]
  },
  {
   "cell_type": "markdown",
   "metadata": {},
   "source": [
    "<i>\n",
    "The concept of accessibility says that designs should be usable by people of diverse abilities. Applied to data visualization, I think of it as design that is usable by people of widely varying technical skills. There are some specific strategies related to accessibility in communicating with data:\n",
    "<li>Don't overcomplicate: the more complicated it looks, the more time your audience perceives it will take to understand and the less likely they are to spend time to understand it. Here are some additional tips to keep your visuals and communications from appearing overly complicated: (1) make it legible; (2) keep it clean; (3) use a straightforward language; (3) remove unnecessary complexity.</li>\n",
    "<li>Text is your friend: thoughtful use of text helps ensure that your data visualization is accessible. Text plays a number of roles in communicating with data: use it to label, introduce, explain, reinforce, highlight, recommend, and tell a story. Assume that every chart needs a title and every axis needs a title. Don't assume that two different people looking at the same data visualization will draw the same conclusion. If there is a conclusion you want your audience to reach, state it in words.</li>\n",
    "</i>"
   ]
  },
  {
   "cell_type": "markdown",
   "metadata": {},
   "source": [
    "<b>About Aesthetics</b>"
   ]
  },
  {
   "cell_type": "markdown",
   "metadata": {},
   "source": [
    "<i>\n",
    "When it comes to communicating with data, is it really necessary to 'make it pretty?' The answer is a resounding Yes. People perceive more aesthetic designs as easier to use than less aesthetic designs - whether they actually are or not.\n",
    "<br>\n",
    "More specifically, let's discuss a few things to consider when it comes to aethetic designs of data visualization.\n",
    "<ol>\n",
    "<li>\n",
    "Be smart with color. The use of color should always be an intentional desicion; use color sparingly and strategically to highlight the important parts of your visual.\n",
    "</li>\n",
    "<li>\n",
    "Pay attention to alignment. Organize elements on the page to create clean vertical and horizontal lines to establish a sense of unity and cohesion.\n",
    "</li>\n",
    "<li>\n",
    "Leverage white space. Preserve margins; don't stretch your graphics to fill the space, or add things simply because you have extra space.\n",
    "</li>\n",
    "</ol>\n",
    "Thoughtful use of color, alignment, and white space are components of the design that you don't even notice when they are done well. But you notice when they aren't: rainbow colors, and lacking alignment and white space, make for a visual that's simply uncomfortable to look at. It feels disorganized and like no attention was paid to detail. This shows a lack of respect for your data and your audience.\n",
    "</i>"
   ]
  },
  {
   "cell_type": "markdown",
   "metadata": {},
   "source": [
    "<b>About Acceptance</b>"
   ]
  },
  {
   "cell_type": "markdown",
   "metadata": {},
   "source": [
    "<i>\n",
    "For a design to be effective, it must be accepted by its intended audience. This adage is true whether the design is question is that of a physical object or a data visualization.\n",
    "<br>\n",
    "People are used to seeing things a certain way and don't want us to mess with that. It is a fact of human nature that most people experience some level of discomfort with change. But there are a few strategies you can leverage for gaining acceptance in the design of your data visualization.\n",
    "<li>Articulate the benefits of the new or different approach. Sometimes simply giving people transparency into why things look different going forward can help them feel more comfortable.</li>\n",
    "<li>Show the side-by-side. It the new approach is clearly superior to the old, showing side by side will demonstrate this.</li>\n",
    "<li>Provide multiple options and seek input. Rather than prescribing the design, consider creating several options and getting feedback from colleagues or your audience to determine which design will best meet the given needs.</li>\n",
    "<li>Get a vocal member of your audience on board. Identify influential members of your audience and talk to them one on one in an effort to gain acceptance of your design.</li>\n",
    "</i>"
   ]
  },
  {
   "cell_type": "code",
   "execution_count": null,
   "metadata": {},
   "outputs": [],
   "source": []
  }
 ],
 "metadata": {
  "kernelspec": {
   "display_name": "Python 3",
   "language": "python",
   "name": "python3"
  },
  "language_info": {
   "codemirror_mode": {
    "name": "ipython",
    "version": 3
   },
   "file_extension": ".py",
   "mimetype": "text/x-python",
   "name": "python",
   "nbconvert_exporter": "python",
   "pygments_lexer": "ipython3",
   "version": "3.6.5"
  }
 },
 "nbformat": 4,
 "nbformat_minor": 2
}
