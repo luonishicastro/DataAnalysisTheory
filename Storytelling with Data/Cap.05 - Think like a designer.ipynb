{
 "cells": [
  {
   "cell_type": "markdown",
   "metadata": {},
   "source": [
    "<b>What does 'Form follows function' means?</b>"
   ]
  },
  {
   "cell_type": "markdown",
   "metadata": {},
   "source": [
    "<i>\n",
    "When it comes to the form and function of our data visualizations, we first want to think about what it is we want our audience to be able to do with the data (function) and then create a visualization (form) that will allow for this with ease.\n",
    "</i>"
   ]
  },
  {
   "cell_type": "markdown",
   "metadata": {},
   "source": [
    "<b>About Affordances</b>"
   ]
  },
  {
   "cell_type": "markdown",
   "metadata": {},
   "source": [
    "<i>\n",
    "In the field of design, experts speak of objects having 'affordances'. These are aspects inherent to the design that make it obvious how the product is to be used. When sufficient affordances are present, good design fades into the background and you don't even notice it.\n",
    "<br>\n",
    "We can leverage visual affordances to indicate to our audience how to use and interact with our visualizations. We'll discuss three specific lessons to this end:\n",
    "<ol>\n",
    "<li>Highlight the important stuff: critical here is to only highlight a fraction of the overall visual, since highlighting effects are diluted as the percentage that are highlighted increases.\n",
    "<br>Bold, italics, and underlining can be used for titles, labels, captions, and short word sequences to differentiate elements.\n",
    "<br>CASE and typeface. Uppercase text in short word sequences is easily scanned, which can work well when applied to titles, labels, and keywords.\n",
    "<br>Color is an effective highlighting technique when used sparingly and generally in concert with other highlighting techniques.\n",
    "<br>Inversing elements is effective at attracting attention, but can add considerable noise to a design so should be used sparingly.\n",
    "<br>Size is another way to attract attention and signal importance.\n",
    "</li>\n",
    "<li>\n",
    "Eliminate distractions: \n",
    "</li>\n",
    "</ol>\n",
    "</i>"
   ]
  },
  {
   "cell_type": "code",
   "execution_count": null,
   "metadata": {},
   "outputs": [],
   "source": []
  }
 ],
 "metadata": {
  "kernelspec": {
   "display_name": "Python 3",
   "language": "python",
   "name": "python3"
  },
  "language_info": {
   "codemirror_mode": {
    "name": "ipython",
    "version": 3
   },
   "file_extension": ".py",
   "mimetype": "text/x-python",
   "name": "python",
   "nbconvert_exporter": "python",
   "pygments_lexer": "ipython3",
   "version": "3.6.5"
  }
 },
 "nbformat": 4,
 "nbformat_minor": 2
}
