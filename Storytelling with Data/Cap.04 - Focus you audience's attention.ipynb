{
 "cells": [
  {
   "cell_type": "markdown",
   "metadata": {},
   "source": [
    "<b>About preattentive attributes</b>"
   ]
  },
  {
   "cell_type": "markdown",
   "metadata": {},
   "source": [
    "<i>\n",
    "Preattentive attributes can be use atrategically in two ways. First, they can be leveraged to help direct your audience's attention to where you want them to focus it. Second, they can be used to create a visual hierarchy of elements to lead your audience through the information you want to communicate in the way you want them to process it.\n",
    "<br><br>\n",
    "There are a few preattentive attributes that are so important from a strategic standpoint when it comes to focusing your audience's attention that they warrant their own specific discussions:\n",
    "* <b>Size: </b> size matters. Relative size denotes relative importance. If you're showing multiple things that are of roughly equal importante, size them similarly. Alternatively, if there is one really important thing, leverage size to indicate that.\n",
    "* <b>Color: </b> when used sparingly, color is one of the most powerful tools you have for drawing your audience's attention. Leverage color selectively as a strategic tool to highlight the important parts of your visual. When it comes to the use of color. there are several specific lessons to know: use it sparingly, use it consistently, design with the colorblind in mind, be thoughtful of the tone color conveys, and consider whether to leverage brand colors.\n",
    "* <b>Position on page: </b> without other visual cues, most members of your audience will start at the top left of your visual or slide and scan with their eyes in zigzag motions across the screen or page. They see the top of the page first, which makes this precious real estate.\n",
    "<br>Try putting the important things at the top. In a data visualization, think about which data you want your audience to see first and whether rearranging the visual accordingly makes sense. Aim to work within the way your audience takes in information.\n",
    "</i>"
   ]
  },
  {
   "cell_type": "markdown",
   "metadata": {},
   "source": [
    "<b>How does your brain sees?</b>"
   ]
  },
  {
   "cell_type": "markdown",
   "metadata": {},
   "source": [
    "<i>\n",
    "The process goes something like this: light reflects off of a stimulus. This get captured by our eyes. We don't fully see with our eyes; there is some processing that happens there, but mostly it is what happens in our brain that we think of as visual perception.\n",
    "<br><br>\n",
    "Within the brain, there are three types of memory that are important to understand as we design visual communications: <b>iconic memory</b>, <b>short-term memory</b> and <b>long-term memory</b>. The iconic memory is super fast. It happens without you consciously realizing it and is piqued when we look at the world around us. Information stays in your iconic for a fraction of a second before it gets forwarded on to you short-term memory. The important thing about iconic memory is that it is tuned to a set of preattentive attributes.\n",
    "<br><br>\n",
    "The Short-term memory has limitations. Specifically, people can keep about four chunks of visual information in their short-term memory at a given time. This means that if we create a graph with ten different data series that are ten different colors with ten different shapes of data markers and a legend off to the side, we're making our audience work very hard going back and forth between the legend and the data to decipher what they are looking at.\n",
    "<br><br>\n",
    "When something leaves short-term memory, it either goes into oblivion and is likely lost forever, or is passed into long-termo memory. Long-term memory is built up over a lifetime and is vitally important for pattern recognition and general cognitive processing. Long-term memory is the aggregate of visual and verbal memory, which act differently.\n",
    "<br><br>\n",
    "There are aspects of long-term memory that we want to make use of when it comes to having our message stick with our audience. Of particular importance to our conversation is that images can help us more quickly recall things stored in  our long-term verbal memory.\n",
    "</i>"
   ]
  },
  {
   "cell_type": "code",
   "execution_count": null,
   "metadata": {},
   "outputs": [],
   "source": []
  }
 ],
 "metadata": {
  "kernelspec": {
   "display_name": "Python 3",
   "language": "python",
   "name": "python3"
  },
  "language_info": {
   "codemirror_mode": {
    "name": "ipython",
    "version": 3
   },
   "file_extension": ".py",
   "mimetype": "text/x-python",
   "name": "python",
   "nbconvert_exporter": "python",
   "pygments_lexer": "ipython3",
   "version": "3.6.5"
  }
 },
 "nbformat": 4,
 "nbformat_minor": 2
}
